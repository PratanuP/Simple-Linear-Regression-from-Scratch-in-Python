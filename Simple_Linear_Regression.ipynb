{
  "nbformat": 4,
  "nbformat_minor": 0,
  "metadata": {
    "colab": {
      "provenance": []
    },
    "kernelspec": {
      "name": "python3",
      "display_name": "Python 3"
    },
    "language_info": {
      "name": "python"
    },
    "accelerator": "GPU",
    "gpuClass": "standard"
  },
  "cells": [
    {
      "cell_type": "code",
      "source": [
        "# Import necessary Libraries\n",
        "import numpy as np\n",
        "import pandas as pd\n",
        "from sklearn.metrics import r2_score, mean_squared_error\n",
        "\n",
        "# Read Data\n",
        "df = pd.read_csv('salary.csv')\n",
        "x = df['YearsExperience'].values\n",
        "y = df['Salary'].values\n",
        "\n",
        "# mean\n",
        "def get_mean(arr):\n",
        "    return np.sum(arr)/len(arr)\n",
        "\n",
        "# variance\n",
        "def get_variance(arr, mean):\n",
        "    return np.sum((arr-mean)**2)\n",
        "\n",
        "# covariance\n",
        "def get_covariance(arr_x, mean_x, arr_y, mean_y):\n",
        "    final_arr = (arr_x - mean_x)*(arr_y - mean_y)\n",
        "    return np.sum(final_arr)\n",
        "\n",
        "# find coeff\n",
        "def get_coefficients(x, y):\n",
        "    x_mean = get_mean(x)\n",
        "    y_mean = get_mean(y)\n",
        "    m = get_covariance(x, x_mean, y, y_mean)/get_variance(x, x_mean)\n",
        "    c = y_mean - x_mean*m\n",
        "    return m, c\n",
        "\n",
        "# Regression Function\n",
        "def linear_regression(x_train, y_train, x_test, y_test):\n",
        "    prediction = []\n",
        "    m, c = get_coefficients(x_train, y_train)\n",
        "    for x in x_test:\n",
        "        y = m*x + c\n",
        "        prediction.append(y)\n",
        "    \n",
        "    r2 = r2_score(prediction, y_test)\n",
        "    mse = mean_squared_error(prediction, y_test)\n",
        "    print(\"The R2 score of the model is: \", r2)\n",
        "    print(\"The MSE score of the model is: \", mse)\n",
        "    print(\"The RMSE score of the model is: \", np.sqrt(mse))\n",
        "    return prediction\n",
        "\n",
        "# There are 30 sample out of which 26 are for training and 4 are for testing\n",
        "prediction = linear_regression(x[:24], y[:24], x[24:], y[24:])\n",
        "\n"
      ],
      "metadata": {
        "colab": {
          "base_uri": "https://localhost:8080/"
        },
        "id": "FER_2gyv_A_D",
        "outputId": "61204592-267e-4cb1-9bb8-46ef7f8edaaf"
      },
      "execution_count": 4,
      "outputs": [
        {
          "output_type": "stream",
          "name": "stdout",
          "text": [
            "The R2 score of the model is:  0.14373929066069802\n",
            "The MSE score of the model is:  35766738.23965806\n",
            "The RMSE score of the model is:  5980.529929668278\n"
          ]
        }
      ]
    }
  ]
}